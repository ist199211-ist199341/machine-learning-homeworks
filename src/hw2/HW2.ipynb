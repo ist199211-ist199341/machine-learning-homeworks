{
 "cells": [
  {
   "cell_type": "markdown",
   "metadata": {},
   "source": [
    "# Homework I\n",
    "\n",
    "Diogo Correia (ist199211) & Tomás Esteves (ist199341)"
   ]
  },
  {
   "cell_type": "markdown",
   "metadata": {},
   "source": [
    "## I. Pen and Paper [13v]\n",
    "\n",
    "**Four positive observations,{$ A \\choose 0 $, $ B \\choose 1 $, $ A \\choose 1 $, $ A \\choose 0 $} , and four negative observations, {$ B \\choose 0 $, $ B \\choose 0 $, $ A \\choose 1 $, $ B \\choose 1 $} were collected. Consider the problem of classifying observations as positive or negative.**"
   ]
  },
  {
   "cell_type": "markdown",
   "metadata": {},
   "source": [
    "### 1) [4v] Compute the recall of a distance-weighted 𝑘NN with 𝑘 = 5 and distance 𝑑(𝐱1 , 𝐱2) = 𝐻𝑎𝑚𝑚𝑖𝑛𝑔(𝐱1 , 𝐱2) + $\\frac{1}{2}$ using leave-one-out evaluation schema (i.e., when observation, use all remaining ones)."
   ]
  },
  {
   "cell_type": "markdown",
   "metadata": {},
   "source": [
    "<table>\n",
    "  <tr>\n",
    "    <td colspan=\"2\" rowspan=\"2\" style=\"border-top: none; border-left: none;\"></td>\n",
    "    <th colspan=\"2\">True</th>\n",
    "    <td rowspan=\"2\" style=\"border-top: none; border-right: none;\"></td>\n",
    "  </tr>\n",
    "  <tr>\n",
    "    <th>Positive</th>\n",
    "    <th>Negative</th>\n",
    "  </tr>\n",
    "  <tr>\n",
    "    <th rowspan=\"2\">Predicted</th>\n",
    "    <th>Positive</th>\n",
    "    <td>1</td>\n",
    "    <td>3</td>\n",
    "    <td>4</td>\n",
    "  </tr>\n",
    "  <tr>\n",
    "    <th>Negative</th>\n",
    "    <td>3</td>\n",
    "    <td>1</td>\n",
    "    <td>4</td>\n",
    "  </tr>\n",
    "  <tr>\n",
    "    <th colspan=\"2\" style=\"border-left: none; border-bottom: none;\"></th>\n",
    "    <td>4</td>\n",
    "    <td>4</td>\n",
    "    <td>8</td>\n",
    "  </tr>\n",
    "</table>"
   ]
  },
  {
   "cell_type": "code",
   "execution_count": null,
   "metadata": {},
   "outputs": [],
   "source": [
    "TRUE_POSITIVE = 1\n",
    "FALSE_NEGATIVE = 3\n",
    "\n",
    "recall = TRUE_POSITIVE / (TRUE_POSITIVE + FALSE_NEGATIVE)\n",
    "\n",
    "recall"
   ]
  },
  {
   "cell_type": "markdown",
   "metadata": {},
   "source": [
    "**An additional positive observation was acquired, ( $𝐵 \\choose 0$), and a third variable 𝑦3 was independently monitored, yielding estimates 𝑦3|𝑃 = {1.2, 0.8, 0.5, 0.9,0.8} and 𝑦3|𝑁 = {1, 0.9, 1.2, 0.8}.**"
   ]
  },
  {
   "cell_type": "markdown",
   "metadata": {},
   "source": [
    "### 2) [4v] Considering the nine training observations, learn a Bayesian classifier assuming:\n",
    "i) 𝑦1 and 𝑦2 are dependent\\\n",
    "ii) {𝑦1, 𝑦2} and {𝑦3} variable sets are independent and equally important\\\n",
    "ii) 𝑦3 is normally distributed. \n",
    "\n",
    "Show all parameters."
   ]
  },
  {
   "cell_type": "code",
   "execution_count": null,
   "metadata": {},
   "outputs": [],
   "source": [
    "prob_pos = 5 / 9\n",
    "prob_neg = 4 / 9\n",
    "\n",
    "# p(c = pos| y1 = v1, y2 = v2, y3 = v3)\n",
    "\n",
    "print(\n",
    "    \"p(c = pos | y1 = v1, y2 = v2, y3 = v3) = \",\n",
    "    prob_pos,\n",
    "    \"* p(y1 = v1, y2 = v2, y3 = v3 | c = pos) /  p(y1 = v1, y2 = v2, y3 = v3)\",\n",
    ")\n",
    "\n",
    "# p(c = neg| y1 = v1, y2 = v2, y3 = v3)\n",
    "\n",
    "print(\n",
    "    \"p(c = neg | y1 = v1, y2 = v2, y3 = v3) = \",\n",
    "    prob_neg,\n",
    "    \"* p(y1 = v1, y2 = v2, y3 = v3 | c = neg) /  p(y1 = v1, y2 = v2, y3 = v3)\",\n",
    ")"
   ]
  },
  {
   "cell_type": "code",
   "execution_count": null,
   "metadata": {},
   "outputs": [],
   "source": [
    "prob_pos = 5 / 9\n",
    "prob_neg = 4 / 9\n",
    "\n",
    "p_A0_pos = 2 / 5\n",
    "p_A0_neg = 0\n",
    "p_A1_pos = 1 / 5\n",
    "p_A1_neg = 1 / 4\n",
    "p_B0_pos = 1 / 5\n",
    "p_B0_neg = 2 / 4\n",
    "p_B1_pos = 1 / 5\n",
    "p_B1_neg = 1 / 4\n",
    "\n",
    "p_12_pos = 1 / 5\n",
    "p_12_neg = 1 / 4\n",
    "p_08_pos = 2 / 5\n",
    "p_08_neg = 1 / 4\n",
    "p_05_pos = 1 / 5\n",
    "p_05_neg = 0\n",
    "p_09_pos = 1 / 4\n",
    "p_09_neg = 1 / 5\n",
    "\n",
    "print(\"p(pos | x) = \", prob_pos, \"* p(x | pos)\")\n",
    "print(\"p(neg | x) = \", prob_neg, \"* p(x | neg)\")"
   ]
  },
  {
   "cell_type": "markdown",
   "metadata": {},
   "source": [
    "$$\n",
    "\n",
    "p(x| 0, 1) = \\mathcal{N}(x | 0, 1) = \\frac{e ^{-x²}}{\\sqrt{2 \\pi}}\n",
    "\n",
    "$$"
   ]
  },
  {
   "cell_type": "code",
   "execution_count": null,
   "metadata": {},
   "outputs": [],
   "source": [
    "import scipy.stats\n",
    "\n",
    "prob_pos = 5 / 9\n",
    "prob_neg = 4 / 9\n",
    "\n",
    "p_12 = scipy.stats.norm(0, 1).pdf(1.2)\n",
    "p_08 = scipy.stats.norm(0, 1).pdf(0.8)\n",
    "p_05 = scipy.stats.norm(0, 1).pdf(0.5)\n",
    "p_09 = scipy.stats.norm(0, 1).pdf(0.9)\n",
    "\n",
    "# p(c = pos| y1 = v1, y2 = v2, y3 = v3)\n",
    "\n",
    "print(\n",
    "    \"p(c = pos | y1 = v1, y2 = v2, y3 = v3) = \",\n",
    "    prob_pos,\n",
    "    \"* p(y1 = v1, y2 = v2, y3 = v3 | c = pos) /  p(y1 = v1, y2 = v2, y3 = v3)\",\n",
    ")\n",
    "\n",
    "# p(c = neg| y1 = v1, y2 = v2, y3 = v3)\n",
    "\n",
    "print(\n",
    "    \"p(c = neg | y1 = v1, y2 = v2, y3 = v3) = \",\n",
    "    prob_neg,\n",
    "    \"* p(y1 = v1, y2 = v2, y3 = v3 | c = neg) /  p(y1 = v1, y2 = v2, y3 = v3)\",\n",
    ")"
   ]
  },
  {
   "cell_type": "markdown",
   "metadata": {},
   "source": [
    "**Considering three testing observations, {((A, 1, 0.8), Positive), ((B, 1, 1), Positive), ((B, 0, 0.9), Negative)}**"
   ]
  },
  {
   "cell_type": "markdown",
   "metadata": {},
   "source": [
    "### 3) [3v] Under a MAP assumption, compute 𝑃(Positive|𝐱) of each testing observation"
   ]
  },
  {
   "cell_type": "markdown",
   "metadata": {},
   "source": [
    "\n",
    "|            |     y1          |          y2        |y3                 | yout              |\n",
    "|------------|-----------------|--------------------|-------------------|-------------------|\n",
    "|     x1     |        A        |          0         |         1.2       |        P          |\n",
    "|     x2     |        B        |          1         |         0.8       |        P          |\n",
    "|     x3     |        A        |          1         |         0.5       |        P          |\n",
    "|     x4     |        A        |          0         |         0.9       |        P          |\n",
    "|     x5     |        B        |          0         |         0.8       |        N          |\n",
    "|     x6     |        B        |          0         |         1         |        N          |\n",
    "|     x7     |        A        |          1         |         0.9       |        N          |\n",
    "|     x8     |        B        |          1         |         1.2       |        N          |\n",
    "|     x9     |        B        |          0         |         0.8       |        P          |\n"
   ]
  },
  {
   "cell_type": "code",
   "execution_count": null,
   "metadata": {},
   "outputs": [],
   "source": [
    "prob_pos = 5 / 9\n",
    "prob_neg = 4 / 9\n",
    "\n",
    "p_A = 2 / 9\n",
    "p_A_pos = 1 / 5\n",
    "\n",
    "print(prob_pos * p_A_pos / p_A)"
   ]
  },
  {
   "cell_type": "code",
   "execution_count": null,
   "metadata": {},
   "outputs": [],
   "source": [
    "prob_pos = 5 / 9\n",
    "prob_neg = 4 / 9\n",
    "\n",
    "p_B = 1 / 9\n",
    "p_B_pos = 1 / 4\n",
    "\n",
    "print(prob_pos * p_B_pos / p_B)"
   ]
  },
  {
   "cell_type": "code",
   "execution_count": null,
   "metadata": {},
   "outputs": [],
   "source": [
    "prob_pos = 5 / 9\n",
    "prob_neg = 4 / 9\n",
    "\n",
    "p_C = 3 / 9\n",
    "p_C_pos = 2 / 4\n",
    "\n",
    "print(prob_pos * p_C_pos / p_C)"
   ]
  },
  {
   "cell_type": "markdown",
   "metadata": {},
   "source": [
    "### 4) [2v] Given a binary class variable, the default decision threshold of 𝜃 = 0.5,\n",
    "f(x|𝜃) = Pos, if P(Positive|x) > 0\\\n",
    "Else negative\n",
    "\n",
    "can be adjusted. Which decision threshold – 0.3, 0.5 or 0.7 – optimizes testing accuracy?"
   ]
  },
  {
   "cell_type": "markdown",
   "metadata": {},
   "source": [
    "> TODO"
   ]
  },
  {
   "cell_type": "markdown",
   "metadata": {},
   "source": [
    "## Programming [7v]\n",
    "\n",
    "**Considering the `pd_speech.arff` dataset available at the homework tab:**"
   ]
  },
  {
   "cell_type": "markdown",
   "metadata": {},
   "source": [
    "### 5) [3v]\n",
    "\n",
    "Using sklearn, considering a 10-fold stratified cross validation (random=0), plot the cumulative\n",
    "testing confusion matrices of 𝑘NN (uniform weights, 𝑘 = 5, Euclidean distance) and Naïve Bayes\n",
    "(Gaussian assumption). Use all remaining classifier parameters as default."
   ]
  },
  {
   "cell_type": "code",
   "execution_count": null,
   "metadata": {},
   "outputs": [],
   "source": [
    "from operator import itemgetter\n",
    "import pandas as pd\n",
    "from scipy.io.arff import loadarff\n",
    "from sklearn import feature_selection, model_selection, tree, metrics, preprocessing\n",
    "import numpy as np\n",
    "import matplotlib.pyplot as plt"
   ]
  },
  {
   "cell_type": "code",
   "execution_count": null,
   "metadata": {},
   "outputs": [],
   "source": [
    "# Reading the ARFF file\n",
    "data = loadarff(\"../data/pd_speech.arff\")\n",
    "df = pd.DataFrame(data[0])\n",
    "df[\"class\"] = df[\"class\"].str.decode(\"utf-8\")"
   ]
  },
  {
   "cell_type": "code",
   "execution_count": null,
   "metadata": {},
   "outputs": [],
   "source": [
    "# Separate features from the outcome (class)\n",
    "X = df.drop(\"class\", axis=1)\n",
    "y = df[\"class\"]"
   ]
  },
  {
   "cell_type": "code",
   "execution_count": null,
   "metadata": {},
   "outputs": [],
   "source": [
    "folds = model_selection.StratifiedKFold(n_splits=10, random_state=0, shuffle=True)"
   ]
  },
  {
   "cell_type": "code",
   "execution_count": null,
   "metadata": {},
   "outputs": [],
   "source": [
    "from sklearn.neighbors import KNeighborsClassifier\n",
    "\n",
    "predictor_knn = KNeighborsClassifier(\n",
    "    weights=\"uniform\", n_neighbors=5, metric=\"euclidean\"\n",
    ")"
   ]
  },
  {
   "cell_type": "code",
   "execution_count": null,
   "metadata": {},
   "outputs": [],
   "source": [
    "from sklearn.naive_bayes import GaussianNB\n",
    "\n",
    "predictor_naive_bayes = GaussianNB()"
   ]
  },
  {
   "cell_type": "code",
   "execution_count": null,
   "metadata": {},
   "outputs": [],
   "source": [
    "knn_prob = []\n",
    "naive_bayes_prob = []\n",
    "\n",
    "knn_acc = []\n",
    "naive_bayes_acc = []\n",
    "\n",
    "for train_k, test_k in folds.split(X, y):\n",
    "\n",
    "    X_train, X_test = X.iloc[train_k], X.iloc[test_k]\n",
    "    y_train, y_test = y.iloc[train_k], y.iloc[test_k]\n",
    "\n",
    "    predictor_knn.fit(X_train, y_train)\n",
    "    predictor_naive_bayes.fit(X_train, y_train)\n",
    "\n",
    "    knn_test_pred = predictor_knn.predict(X_test)\n",
    "    naive_bayes_test_pred = predictor_naive_bayes.predict(X_test)\n",
    "\n",
    "    knn_prob += knn_test_pred.tolist()\n",
    "    naive_bayes_prob += naive_bayes_test_pred.tolist()\n",
    "\n",
    "    # Get the accuracy of each test\n",
    "    knn_acc.append(metrics.accuracy_score(y_test, knn_test_pred))\n",
    "    naive_bayes_acc.append(metrics.accuracy_score(y_test, naive_bayes_test_pred))"
   ]
  },
  {
   "cell_type": "code",
   "execution_count": null,
   "metadata": {},
   "outputs": [],
   "source": [
    "from sklearn.metrics import classification_report, confusion_matrix\n",
    "\n",
    "cm = np.array(confusion_matrix(y, knn_prob, labels=([\"0\", \"1\"])))\n",
    "\n",
    "confusion = pd.DataFrame(\n",
    "    cm,\n",
    "    index=[\"Parkinson\", \"Healthy\"],\n",
    "    columns=[\"Predicted Parkinson\", \"Predicted Healthy\"],\n",
    ")\n",
    "confusion"
   ]
  },
  {
   "cell_type": "code",
   "execution_count": null,
   "metadata": {},
   "outputs": [],
   "source": [
    "cm = np.array(confusion_matrix(y, naive_bayes_prob, labels=([\"0\", \"1\"])))\n",
    "\n",
    "confusion = pd.DataFrame(\n",
    "    cm,\n",
    "    index=[\"Parkinson\", \"Healthy\"],\n",
    "    columns=[\"Predicted Parkinson\", \"Predicted Healthy\"],\n",
    ")\n",
    "confusion"
   ]
  },
  {
   "cell_type": "markdown",
   "metadata": {},
   "source": [
    "### 6) [2v] Using scipy, test the hypothesis “𝑘NN is statistically superior to Naïve Bayes regarding accuracy”, asserting whether is true."
   ]
  },
  {
   "cell_type": "code",
   "execution_count": null,
   "metadata": {},
   "outputs": [],
   "source": [
    "from scipy import stats\n",
    "\n",
    "# predictor 1 is better than 2?\n",
    "res = stats.ttest_rel(knn_acc, naive_bayes_acc, alternative=\"greater\")\n",
    "print(\"knn > naive_bayes? pval=\", res.pvalue)\n",
    "\n",
    "# predictor 2 is better than 1?\n",
    "res = stats.ttest_rel(knn_acc, naive_bayes_acc, alternative=\"less\")\n",
    "print(\"knn < naive_bayes? pval=\", res.pvalue)\n",
    "\n",
    "# performance of predictor 1 differs from predictor 2?\n",
    "res = stats.ttest_rel(knn_acc, naive_bayes_acc, alternative=\"two-sided\")\n",
    "print(\"knn != naive_bayes? pval=\", res.pvalue)"
   ]
  },
  {
   "cell_type": "markdown",
   "metadata": {},
   "source": [
    "It's true, knn is more accurate!"
   ]
  },
  {
   "cell_type": "markdown",
   "metadata": {},
   "source": [
    "### 7) [2v] Enumerate three possible reasons that could underlie the observed differences in predictive accuracy between 𝑘NN and Naïve Bayes."
   ]
  },
  {
   "cell_type": "markdown",
   "metadata": {},
   "source": [
    "> TODO"
   ]
  }
 ],
 "metadata": {},
 "nbformat": 4,
 "nbformat_minor": 2
}

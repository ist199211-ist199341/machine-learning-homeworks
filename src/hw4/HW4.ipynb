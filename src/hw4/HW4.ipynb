{
 "cells": [
  {
   "cell_type": "markdown",
   "metadata": {},
   "source": [
    "# Homework III\n",
    "\n",
    "Diogo Correia (ist199211) & Tomás Esteves (ist199341)"
   ]
  },
  {
   "cell_type": "markdown",
   "metadata": {},
   "source": [
    "## I. Pen and Paper [11v]\n",
    "\n",
    "**Given the bivariate observations** $\\left\\{\n",
    "\\begin{pmatrix}\n",
    "    1 \\\\\n",
    "    2\n",
    "\\end{pmatrix}\n",
    ",\n",
    "\\begin{pmatrix}\n",
    "    -1 \\\\\n",
    "    1\n",
    "\\end{pmatrix}\n",
    ",\n",
    "\\begin{pmatrix}\n",
    "    1 \\\\\n",
    "    0\n",
    "\\end{pmatrix}\n",
    "\\right\\}\n",
    "$ **and the multivariate Gaussian mixture**\n",
    "$$\n",
    "\n",
    "u_1 = \\begin{pmatrix}\n",
    "    2 \\\\\n",
    "    2\n",
    "\\end{pmatrix}\n",
    ",\n",
    "\n",
    "u_2 = \\begin{pmatrix}\n",
    "    0 \\\\\n",
    "    0\n",
    "\\end{pmatrix}\n",
    ", \n",
    "\n",
    "\\Sigma_1 = \\begin{pmatrix}\n",
    "    2 & 1 \\\\\n",
    "    1 & 2\n",
    "\\end{pmatrix}\n",
    ",\n",
    "\n",
    "\\Sigma_2 = \\begin{pmatrix}\n",
    "    2 & 0 \\\\\n",
    "    0 & 2\n",
    "\\end{pmatrix}\n",
    ",\n",
    "\n",
    "\\pi_1 = 0.5,\n",
    "\\pi_2 = 0.5\n",
    "$$"
   ]
  },
  {
   "cell_type": "markdown",
   "metadata": {},
   "source": [
    "### 1) [7v] **Perform one epoch of the EM clustering algorithm and determine the new parameters. Indicate all calculus step by step (you can use a computer, however disclose intermediary steps).**"
   ]
  },
  {
   "cell_type": "markdown",
   "metadata": {},
   "source": [
    ">TODO"
   ]
  },
  {
   "cell_type": "markdown",
   "metadata": {},
   "source": [
    "### 2) Given the updated parameters computed in previous question:"
   ]
  },
  {
   "cell_type": "markdown",
   "metadata": {},
   "source": [
    "#### a. [1.5v] **perform a hard assignment of observations to clusters under a MAP assumption.**"
   ]
  },
  {
   "cell_type": "markdown",
   "metadata": {},
   "source": [
    ">TODO"
   ]
  },
  {
   "cell_type": "markdown",
   "metadata": {},
   "source": [
    "#### b. [2.5v] **compute the silhouette of the larger cluster using the Euclidean distance.**"
   ]
  },
  {
   "cell_type": "markdown",
   "metadata": {},
   "source": [
    ">TODO"
   ]
  },
  {
   "cell_type": "markdown",
   "metadata": {},
   "source": [
    "## Programming and Critical Anlaysis[9v]\n",
    "\n",
    "**Recall the pd_speech.arff dataset from earlier homeworks, centered on the Parkinson diagnosis from speech features. For the following exercises, normalize the data using sklearn’s MinMaxScaler.**"
   ]
  },
  {
   "cell_type": "markdown",
   "metadata": {},
   "source": [
    "### 1) [4.5v] **Using sklearn, apply k-means clustering fully unsupervisedly (without targets) on the normalized data with 𝑘 = 3 and three different seeds (using random ϵ {0,1,2}). Assess the silhouette and purity of the produced solutions.**"
   ]
  },
  {
   "cell_type": "code",
   "execution_count": null,
   "metadata": {},
   "outputs": [],
   "source": [
    "# TODO"
   ]
  },
  {
   "cell_type": "markdown",
   "metadata": {},
   "source": [
    "### 2) [1.5v] **What is causing the non-determinism?**"
   ]
  },
  {
   "cell_type": "code",
   "execution_count": null,
   "metadata": {},
   "outputs": [],
   "source": [
    "# TODO"
   ]
  },
  {
   "cell_type": "markdown",
   "metadata": {},
   "source": [
    "### 3) [1.5v] **Using a scatter plot, visualize side-by-side the labeled data using as labels:** \n",
    "- i) the original Parkinson diagnoses, \n",
    "- ii) the previously learned 𝑘 = 3 clusters (random= 0). \n",
    "\n",
    "**To this end, select the two most informative features as axes and color observations according to their label. For feature selection, select the two input variables with highest variance on the MinMax normalized data.**"
   ]
  },
  {
   "cell_type": "code",
   "execution_count": null,
   "metadata": {},
   "outputs": [],
   "source": [
    "# TODO"
   ]
  },
  {
   "cell_type": "markdown",
   "metadata": {},
   "source": [
    "### 4) [1.5v] **The fraction of variance explained by a principal component is the ratio between the variance of that component (i.e., its eigenvalue) and total variance (i.e., sum of all eigenvalues). How many principal components are necessary to explain more than 80% of variability? Hint: explore the DimReduction notebook to be familiar with PCA in sklearn.**"
   ]
  },
  {
   "cell_type": "code",
   "execution_count": null,
   "metadata": {},
   "outputs": [],
   "source": [
    "# TODO"
   ]
  }
 ],
 "metadata": {},
 "nbformat": 4,
 "nbformat_minor": 2
}

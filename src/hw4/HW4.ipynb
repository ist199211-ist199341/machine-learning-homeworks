{
 "cells": [
  {
   "cell_type": "markdown",
   "metadata": {},
   "source": [
    "# Homework III\n",
    "\n",
    "Diogo Correia (ist199211) & Tomás Esteves (ist199341)"
   ]
  },
  {
   "cell_type": "markdown",
   "metadata": {},
   "source": [
    "## I. Pen and Paper [11v]\n",
    "\n",
    "**Given the bivariate observations** $\\left\\{\n",
    "\\begin{pmatrix}\n",
    "    1 \\\\\n",
    "    2\n",
    "\\end{pmatrix}\n",
    ",\n",
    "\\begin{pmatrix}\n",
    "    -1 \\\\\n",
    "    1\n",
    "\\end{pmatrix}\n",
    ",\n",
    "\\begin{pmatrix}\n",
    "    1 \\\\\n",
    "    0\n",
    "\\end{pmatrix}\n",
    "\\right\\}\n",
    "$ **and the multivariate Gaussian mixture**\n",
    "$$\n",
    "\n",
    "u_1 = \\begin{pmatrix}\n",
    "    2 \\\\\n",
    "    2\n",
    "\\end{pmatrix}\n",
    ",\n",
    "\n",
    "u_2 = \\begin{pmatrix}\n",
    "    0 \\\\\n",
    "    0\n",
    "\\end{pmatrix}\n",
    ", \n",
    "\n",
    "\\Sigma_1 = \\begin{pmatrix}\n",
    "    2 & 1 \\\\\n",
    "    1 & 2\n",
    "\\end{pmatrix}\n",
    ",\n",
    "\n",
    "\\Sigma_2 = \\begin{pmatrix}\n",
    "    2 & 0 \\\\\n",
    "    0 & 2\n",
    "\\end{pmatrix}\n",
    ",\n",
    "\n",
    "\\pi_1 = 0.5,\n",
    "\\pi_2 = 0.5\n",
    "$$"
   ]
  },
  {
   "cell_type": "markdown",
   "metadata": {},
   "source": [
    "### 1) [7v] **Perform one epoch of the EM clustering algorithm and determine the new parameters. Indicate all calculus step by step (you can use a computer, however disclose intermediary steps).**"
   ]
  },
  {
   "cell_type": "code",
   "execution_count": null,
   "metadata": {},
   "outputs": [],
   "source": [
    "import pandas as pd\n",
    "\n",
    "df1 = pd.read_csv(\"../data/hw4data.csv\")\n",
    "\n",
    "df1"
   ]
  },
  {
   "cell_type": "code",
   "execution_count": null,
   "metadata": {},
   "outputs": [],
   "source": [
    "import numpy as np\n",
    "import scipy.stats as stats\n",
    "\n",
    "u_1 = [2, 2]\n",
    "\n",
    "u_2 = [0, 0]\n",
    "\n",
    "sigma_1 = [[2, 1], [1, 2]]\n",
    "\n",
    "sigma_2 = [[2, 0], [0, 2]]\n",
    "\n",
    "pi_1 = 0.5\n",
    "pi_2 = 0.5\n",
    "\n",
    "values = np.array([[1, 2], [-1, 1], [1, 0]])"
   ]
  },
  {
   "cell_type": "code",
   "execution_count": null,
   "metadata": {},
   "outputs": [],
   "source": [
    "from numpyarray_to_latex import to_ltx\n",
    "from numpyarray_to_latex.jupyter import to_jup"
   ]
  },
  {
   "cell_type": "code",
   "execution_count": null,
   "metadata": {},
   "outputs": [],
   "source": [
    "def ltx(array, **wargs):\n",
    "    print(to_ltx(array, latexarraytype=\"bmatrix\", **wargs))"
   ]
  },
  {
   "cell_type": "markdown",
   "metadata": {},
   "source": [
    "$$\n",
    "p(c_{k}) = \\pi_{k}\n",
    "$$"
   ]
  },
  {
   "cell_type": "markdown",
   "metadata": {},
   "source": [
    "$$\n",
    "p(x_i|c_{k}) = \\mathcal{N}(x_i|u_{c_{k}}, \\Sigma_{c_{k}})\n",
    "$$"
   ]
  },
  {
   "cell_type": "code",
   "execution_count": null,
   "metadata": {},
   "outputs": [],
   "source": [
    "prob_x0_1_norm = stats.multivariate_normal.pdf(values[0], mean=u_1, cov=sigma_1)\n",
    "prob_x0_2_norm = stats.multivariate_normal.pdf(values[0], mean=u_2, cov=sigma_2)\n",
    "\n",
    "prob_x1_1_norm = stats.multivariate_normal.pdf(values[1], mean=u_1, cov=sigma_1)\n",
    "prob_x1_2_norm = stats.multivariate_normal.pdf(values[1], mean=u_2, cov=sigma_2)\n",
    "\n",
    "prob_x2_1_norm = stats.multivariate_normal.pdf(values[2], mean=u_1, cov=sigma_1)\n",
    "prob_x2_2_norm = stats.multivariate_normal.pdf(values[2], mean=u_2, cov=sigma_2)"
   ]
  },
  {
   "cell_type": "code",
   "execution_count": null,
   "metadata": {},
   "outputs": [],
   "source": [
    "for x in (\n",
    "    prob_x0_1_norm,\n",
    "    prob_x0_2_norm,\n",
    "    prob_x1_1_norm,\n",
    "    prob_x1_2_norm,\n",
    "    prob_x2_1_norm,\n",
    "    prob_x2_2_norm,\n",
    "):\n",
    "    print(f\"{x:6.5f}\")"
   ]
  },
  {
   "cell_type": "markdown",
   "metadata": {},
   "source": [
    "$$\n",
    "p(x_i,c_k) = \\pi_{k} \\mathcal{N}(x_i| u_{k}, \\Sigma_{k}) = \\pi_k p(x_i|c_k)\n",
    "$$"
   ]
  },
  {
   "cell_type": "code",
   "execution_count": null,
   "metadata": {},
   "outputs": [],
   "source": [
    "prob_x0_1_and = prob_x0_1_norm * pi_1\n",
    "prob_x0_2_and = prob_x0_2_norm * pi_2\n",
    "\n",
    "prob_x1_1_and = prob_x1_1_norm * pi_1\n",
    "prob_x1_2_and = prob_x1_2_norm * pi_2\n",
    "\n",
    "prob_x2_1_and = prob_x2_1_norm * pi_1\n",
    "prob_x2_2_and = prob_x2_2_norm * pi_2"
   ]
  },
  {
   "cell_type": "code",
   "execution_count": null,
   "metadata": {},
   "outputs": [],
   "source": [
    "for x in (\n",
    "    prob_x0_1_and,\n",
    "    prob_x0_2_and,\n",
    "    prob_x1_1_and,\n",
    "    prob_x1_2_and,\n",
    "    prob_x2_1_and,\n",
    "    prob_x2_2_and,\n",
    "):\n",
    "    print(f\"{x:6.5f}\")"
   ]
  },
  {
   "cell_type": "markdown",
   "metadata": {},
   "source": [
    "$$\n",
    "p(x_i) = \\sum_{k=1}^K \\pi_k \\mathcal{N}(x_i|\\mu_k, \\Sigma_k) = \\sum_{k=1}^K p(x_i,c_k)  = \\sum_{k=1}^K \\pi_k p(x_i|c_k)\n",
    ",\n",
    "\\ \\sum_{k=1}^K \\pi_k = 1\n",
    "$$"
   ]
  },
  {
   "cell_type": "code",
   "execution_count": null,
   "metadata": {},
   "outputs": [],
   "source": [
    "prob_x0 = prob_x0_1_and + prob_x0_2_and\n",
    "prob_x1 = prob_x1_1_and + prob_x1_2_and\n",
    "prob_x2 = prob_x2_1_and + prob_x2_2_and"
   ]
  },
  {
   "cell_type": "code",
   "execution_count": null,
   "metadata": {},
   "outputs": [],
   "source": [
    "for x in (prob_x0, prob_x1, prob_x2):\n",
    "    print(f\"{x:6.5f}\")"
   ]
  },
  {
   "cell_type": "markdown",
   "metadata": {},
   "source": [
    "$$\n",
    "\\gamma_{ki}  = p(c_k|x_i) = \\cfrac{\\pi_k \\mathcal{N}(x_i|\\mu_k, \\Sigma_k)}{\\sum_{k=1}^K \\pi_k \\mathcal{N}(x_i|\\mu_k, \\Sigma_k)} = \\cfrac{p(x_i,c_k)}{p(x_i)}\n",
    "$$"
   ]
  },
  {
   "cell_type": "code",
   "execution_count": null,
   "metadata": {},
   "outputs": [],
   "source": [
    "gamma_x0_y1_1 = prob_x0_1_and / prob_x0\n",
    "gamma_x0_y1_2 = prob_x0_2_and / prob_x0\n",
    "\n",
    "gamma_x1_y1_1 = prob_x1_1_and / prob_x1\n",
    "gamma_x1_y1_2 = prob_x1_2_and / prob_x1\n",
    "\n",
    "gamma_x2_y1_1 = prob_x2_1_and / prob_x2\n",
    "gamma_x2_y1_2 = prob_x2_2_and / prob_x2\n",
    "\n",
    "gamma_x0_y1_1, gamma_x0_y1_2, gamma_x1_y1_1, gamma_x1_y1_2, gamma_x2_y1_1, gamma_x2_y1_2"
   ]
  },
  {
   "cell_type": "code",
   "execution_count": null,
   "metadata": {},
   "outputs": [],
   "source": [
    "for x in (\n",
    "    gamma_x0_y1_1,\n",
    "    gamma_x0_y1_2,\n",
    "    gamma_x1_y1_1,\n",
    "    gamma_x1_y1_2,\n",
    "    gamma_x2_y1_1,\n",
    "    gamma_x2_y1_2,\n",
    "):\n",
    "    print(f\"{x:6.5f}\")"
   ]
  },
  {
   "cell_type": "markdown",
   "metadata": {},
   "source": [
    "$$\n",
    "N_k = \\sum_{i=1}^N \\gamma_{ki}\n",
    "$$"
   ]
  },
  {
   "cell_type": "code",
   "execution_count": null,
   "metadata": {},
   "outputs": [],
   "source": [
    "n_1 = gamma_x0_y1_1 + gamma_x1_y1_1 + gamma_x2_y1_1\n",
    "n_2 = gamma_x0_y1_2 + gamma_x1_y1_2 + gamma_x2_y1_2\n",
    "\n",
    "n_1, n_2"
   ]
  },
  {
   "cell_type": "markdown",
   "metadata": {},
   "source": [
    "$$\n",
    "u_k = \\cfrac{1}{N_k} \\sum_{i=1}^N \\gamma_{ki} x_i\n",
    "$$"
   ]
  },
  {
   "cell_type": "code",
   "execution_count": null,
   "metadata": {},
   "outputs": [],
   "source": [
    "new_u_1 = (\n",
    "    gamma_x0_y1_1 * values[0] + gamma_x1_y1_1 * values[1] + gamma_x2_y1_1 * values[2]\n",
    ") / n_1\n",
    "new_u_2 = (\n",
    "    gamma_x0_y1_2 * values[0] + gamma_x1_y1_2 * values[1] + gamma_x2_y1_2 * values[2]\n",
    ") / n_2\n",
    "\n",
    "print(\"u_1: \", new_u_1)\n",
    "print(\"u_2: \", new_u_2)"
   ]
  },
  {
   "cell_type": "markdown",
   "metadata": {},
   "source": [
    "$$\n",
    "\\Sigma_k = \\cfrac{1}{N_k} \\sum_{i=1}^N \\gamma_{ki} (x_i - u_k)(x_i - u_k)^T\n",
    "$$"
   ]
  },
  {
   "cell_type": "code",
   "execution_count": null,
   "metadata": {},
   "outputs": [],
   "source": [
    "new_u_1 = np.array(new_u_1)\n",
    "new_u_2 = np.array(new_u_2)\n",
    "\n",
    "new_sigma_1 = (\n",
    "    gamma_x0_y1_1 * np.outer(values[0] - new_u_1, values[0] - new_u_1)\n",
    "    + gamma_x1_y1_1 * np.outer(values[1] - new_u_1, values[1] - new_u_1)\n",
    "    + gamma_x2_y1_1 * np.outer(values[2] - new_u_1, values[2] - new_u_1)\n",
    ") / n_1\n",
    "new_sigma_2 = (\n",
    "    gamma_x0_y1_2 * np.outer(values[0] - new_u_2, values[0] - new_u_2)\n",
    "    + gamma_x1_y1_2 * np.outer(values[1] - new_u_2, values[1] - new_u_2)\n",
    "    + gamma_x2_y1_2 * np.outer(values[2] - new_u_2, values[2] - new_u_2)\n",
    ") / n_2\n",
    "\n",
    "print(\"sigma_1: \", new_sigma_1)\n",
    "print(\"sigma_2: \", new_sigma_2)"
   ]
  },
  {
   "cell_type": "markdown",
   "metadata": {},
   "source": [
    "$$\n",
    "\\pi_k = \\cfrac{N_k}{N}\n",
    "$$"
   ]
  },
  {
   "cell_type": "code",
   "execution_count": null,
   "metadata": {},
   "outputs": [],
   "source": [
    "new_pi_1 = n_1 / (n_1 + n_2)\n",
    "new_pi_2 = n_2 / (n_1 + n_2)\n",
    "\n",
    "print(\"pi_1: \", new_pi_1)\n",
    "print(\"pi_2: \", new_pi_2)"
   ]
  },
  {
   "cell_type": "markdown",
   "metadata": {},
   "source": [
    "$$\n",
    "\\log p(X| \\pi , \\mu, \\Sigma) = \\sum_{n=1}^N \\log \\left( \\sum_{k=1}^K \\pi_k \\mathcal{N}(x_n|\\mu_k, \\Sigma_k) \\right)\n",
    "$$"
   ]
  },
  {
   "cell_type": "code",
   "execution_count": null,
   "metadata": {},
   "outputs": [],
   "source": [
    "log_x0 = np.log(prob_x0)\n",
    "log_x1 = np.log(prob_x1)\n",
    "log_x2 = np.log(prob_x2)\n",
    "\n",
    "log_likelihood = log_x0 + log_x1 + log_x2\n",
    "\n",
    "print(log_likelihood)"
   ]
  },
  {
   "cell_type": "markdown",
   "metadata": {},
   "source": [
    "$$\n",
    "\n",
    "u_1 = \\begin{pmatrix}\n",
    "    0.7510 \\\\\n",
    "    1.3115\n",
    "\\end{pmatrix}\n",
    ",\n",
    "\n",
    "u_2 = \\begin{pmatrix}\n",
    "    0.0344 \\\\\n",
    "    0.7770\n",
    "\\end{pmatrix}\n",
    ", \n",
    "\n",
    "\\Sigma_1 = \\begin{pmatrix}\n",
    "    0.4361 & 0.07757 \\\\\n",
    "    0.07757 & 0.7785\n",
    "\\end{pmatrix}\n",
    ",\n",
    "\n",
    "\\Sigma_2 = \\begin{pmatrix}\n",
    "    0.9988 & -0.2153 \\\\\n",
    "    -0.2153 & 0.4675\n",
    "\\end{pmatrix}\n",
    ",\n",
    "\n",
    "\\pi_1 = 0.4172,\n",
    "\\pi_2 = 0.5828\n",
    "$$"
   ]
  },
  {
   "cell_type": "markdown",
   "metadata": {},
   "source": [
    "### 2) Given the updated parameters computed in previous question:"
   ]
  },
  {
   "cell_type": "markdown",
   "metadata": {},
   "source": [
    "#### a. [1.5v] **perform a hard assignment of observations to clusters under a MAP assumption.**\n",
    "\n",
    "$$\n",
    "\\hat{c}_i = \\arg\\max_{k} \\gamma_{ki}\n",
    "$$"
   ]
  },
  {
   "cell_type": "code",
   "execution_count": null,
   "metadata": {},
   "outputs": [],
   "source": [
    "new_prob_x0_1_norm = stats.multivariate_normal.pdf(\n",
    "    values[0], mean=new_u_1, cov=new_sigma_1\n",
    ")\n",
    "new_prob_x0_2_norm = stats.multivariate_normal.pdf(\n",
    "    values[0], mean=new_u_2, cov=new_sigma_2\n",
    ")\n",
    "\n",
    "new_prob_x1_1_norm = stats.multivariate_normal.pdf(\n",
    "    values[1], mean=new_u_1, cov=new_sigma_1\n",
    ")\n",
    "new_prob_x1_2_norm = stats.multivariate_normal.pdf(\n",
    "    values[1], mean=new_u_2, cov=new_sigma_2\n",
    ")\n",
    "\n",
    "new_prob_x2_1_norm = stats.multivariate_normal.pdf(\n",
    "    values[2], mean=new_u_1, cov=new_sigma_1\n",
    ")\n",
    "new_prob_x2_2_norm = stats.multivariate_normal.pdf(\n",
    "    values[2], mean=new_u_2, cov=new_sigma_2\n",
    ")"
   ]
  },
  {
   "cell_type": "code",
   "execution_count": null,
   "metadata": {},
   "outputs": [],
   "source": [
    "new_prob_x0_1_and = new_prob_x0_1_norm * new_pi_1\n",
    "new_prob_x0_2_and = new_prob_x0_2_norm * new_pi_2\n",
    "\n",
    "new_prob_x1_1_and = new_prob_x1_1_norm * new_pi_1\n",
    "new_prob_x1_2_and = new_prob_x1_2_norm * new_pi_2\n",
    "\n",
    "new_prob_x2_1_and = new_prob_x2_1_norm * new_pi_1\n",
    "new_prob_x2_2_and = new_prob_x2_2_norm * new_pi_2"
   ]
  },
  {
   "cell_type": "code",
   "execution_count": null,
   "metadata": {},
   "outputs": [],
   "source": [
    "new_prob_x0 = new_prob_x0_1_and + new_prob_x0_2_and\n",
    "new_prob_x1 = new_prob_x1_1_and + new_prob_x1_2_and\n",
    "new_prob_x2 = new_prob_x2_1_and + new_prob_x2_2_and"
   ]
  },
  {
   "cell_type": "code",
   "execution_count": null,
   "metadata": {},
   "outputs": [],
   "source": [
    "new_gamma_x0_y1_1 = new_prob_x0_1_and / new_prob_x0\n",
    "new_gamma_x0_y1_2 = new_prob_x0_2_and / new_prob_x0\n",
    "\n",
    "print(\"gamma_x0_y1_1: \", new_gamma_x0_y1_1)\n",
    "print(\"gamma_x0_y1_2: \", new_gamma_x0_y1_2)\n",
    "\n",
    "new_gamma_x1_y1_1 = new_prob_x1_1_and / new_prob_x1\n",
    "new_gamma_x1_y1_2 = new_prob_x1_2_and / new_prob_x1\n",
    "\n",
    "print(\"gamma_x1_y1_1: \", new_gamma_x1_y1_1)\n",
    "print(\"gamma_x1_y1_2: \", new_gamma_x1_y1_2)\n",
    "\n",
    "new_gamma_x2_y1_1 = new_prob_x2_1_and / new_prob_x2\n",
    "new_gamma_x2_y1_2 = new_prob_x2_2_and / new_prob_x2\n",
    "\n",
    "print(\"gamma_x2_y1_1: \", new_gamma_x2_y1_1)\n",
    "print(\"gamma_x2_y1_2: \", new_gamma_x2_y1_2)"
   ]
  },
  {
   "cell_type": "markdown",
   "metadata": {},
   "source": [
    "$$\n",
    "\\hat{c}_1 = 1\n",
    ", \\\n",
    "\\hat{c}_2 = 2\n",
    ",\\ \n",
    "\\hat{c}_3 = 2\n",
    "$$"
   ]
  },
  {
   "cell_type": "markdown",
   "metadata": {},
   "source": [
    "#### b. [2.5v] **compute the silhouette of the larger cluster using the Euclidean distance.**"
   ]
  },
  {
   "cell_type": "markdown",
   "metadata": {},
   "source": [
    "$$\n",
    "a_i = \\cfrac{1}{N_k - 1} \\sum_{j \\in C_k \\setminus \\{i\\}} d(x_i, x_j)\n",
    ",\\\n",
    "b_i = \\min_{k' \\neq k} \\cfrac{1}{N_{k'}} \\sum_{j \\in C_{k'}} d(x_i, x_j)\n",
    "$$"
   ]
  },
  {
   "cell_type": "markdown",
   "metadata": {},
   "source": [
    "$$\n",
    "d(x_i, x_j) = \\sqrt{\\sum_{m=1}^d (x_{i_m} - x_{j_m})^2}\n",
    "$$"
   ]
  },
  {
   "cell_type": "code",
   "execution_count": null,
   "metadata": {},
   "outputs": [],
   "source": [
    "from scipy.spatial import distance\n",
    "\n",
    "\n",
    "def a_fn(x_i, points):\n",
    "\n",
    "    value = 0\n",
    "\n",
    "    for point in points:\n",
    "        value += distance.euclidean(x_i, point)\n",
    "\n",
    "    return value / len(points)"
   ]
  },
  {
   "cell_type": "code",
   "execution_count": null,
   "metadata": {},
   "outputs": [],
   "source": [
    "class_1 = [values[0]]\n",
    "class_2 = [values[1], values[2]]\n",
    "\n",
    "a_0 = a_fn(values[0], class_1)\n",
    "a_1 = a_fn(values[1], class_2)\n",
    "a_2 = a_fn(values[2], class_2)\n",
    "\n",
    "a_0, a_1, a_2"
   ]
  },
  {
   "cell_type": "code",
   "execution_count": null,
   "metadata": {},
   "outputs": [],
   "source": [
    "def b_fn(x_i, points_other):\n",
    "\n",
    "    value = 0\n",
    "\n",
    "    for point in points_other:\n",
    "        value += distance.euclidean(x_i, point)\n",
    "\n",
    "    return value / len(points_other)"
   ]
  },
  {
   "cell_type": "code",
   "execution_count": null,
   "metadata": {},
   "outputs": [],
   "source": [
    "b_0 = b_fn(values[0], class_2)\n",
    "b_1 = b_fn(values[1], class_1)\n",
    "b_2 = b_fn(values[2], class_1)\n",
    "\n",
    "b_0, b_1, b_2"
   ]
  },
  {
   "cell_type": "markdown",
   "metadata": {},
   "source": [
    "$$\n",
    "\\begin{equation}\n",
    "              s_i = \\begin{cases}\n",
    "                  1 - \\cfrac{a_i}{b_i} & a_i < b_i \\\\\n",
    "                  \\cfrac{b_i}{a_i} - 1 & a_i \\geq b_i\n",
    "              \\end{cases} = \\cfrac{b_i - a_i}{\\max(a_i, b_i)}\n",
    "\\end{equation}\n",
    "$$"
   ]
  },
  {
   "cell_type": "code",
   "execution_count": null,
   "metadata": {},
   "outputs": [],
   "source": [
    "def s_n(a, b):\n",
    "    if a == 0:\n",
    "        return 0\n",
    "    value = (b - a) / max(a, b)\n",
    "    return value"
   ]
  },
  {
   "cell_type": "code",
   "execution_count": null,
   "metadata": {},
   "outputs": [],
   "source": [
    "s_0 = s_n(a_0, b_0)\n",
    "s_1 = s_n(a_1, b_1)\n",
    "s_2 = s_n(a_2, b_2)\n",
    "\n",
    "s_c_1 = s_0\n",
    "s_c_2 = (s_1 + s_2) / 2\n",
    "\n",
    "s_c = (s_c_1 + s_c_2) / 2\n",
    "\n",
    "print(\"s_0: \", s_0)\n",
    "print(\"s_1: \", s_1)\n",
    "print(\"s_2: \", s_2)\n",
    "\n",
    "print(\"s_c_1: \", s_c_1)\n",
    "print(\"s_c_2: \", s_c_2)\n",
    "\n",
    "print(\"s_c: \", s_c)"
   ]
  },
  {
   "cell_type": "markdown",
   "metadata": {},
   "source": [
    "## Programming and Critical Anlaysis[9v]\n",
    "\n",
    "**Recall the pd_speech.arff dataset from earlier homeworks, centered on the Parkinson diagnosis from speech features. For the following exercises, normalize the data using sklearn’s MinMaxScaler.**"
   ]
  },
  {
   "cell_type": "markdown",
   "metadata": {},
   "source": [
    "### 1) [4.5v] **Using sklearn, apply k-means clustering fully unsupervisedly (without targets) on the normalized data with 𝑘 = 3 and three different seeds (using random ϵ {0,1,2}). Assess the silhouette and purity of the produced solutions.**"
   ]
  },
  {
   "cell_type": "code",
   "execution_count": null,
   "metadata": {},
   "outputs": [],
   "source": [
    "from scipy.io.arff import loadarff\n",
    "import pandas as pd\n",
    "from sklearn.preprocessing import MinMaxScaler\n",
    "from sklearn import datasets, metrics, cluster, mixture\n",
    "import numpy as np\n",
    "import matplotlib.pyplot as plt\n",
    "from matplotlib.colors import ListedColormap\n",
    "from sklearn.decomposition import PCA"
   ]
  },
  {
   "cell_type": "code",
   "execution_count": null,
   "metadata": {},
   "outputs": [],
   "source": [
    "data = loadarff(\"../data/pd_speech.arff\")\n",
    "df = pd.DataFrame(data[0])\n",
    "df[\"class\"] = df[\"class\"].str.decode(\"utf-8\")\n",
    "X = df.drop(\"class\", axis=1)\n",
    "y_true = df[\"class\"]\n",
    "\n",
    "X.head(2)"
   ]
  },
  {
   "cell_type": "code",
   "execution_count": null,
   "metadata": {},
   "outputs": [],
   "source": [
    "X = MinMaxScaler().fit_transform(X)\n",
    "\n",
    "X = pd.DataFrame(X, columns=df.columns[:-1])\n",
    "\n",
    "X.head(2)"
   ]
  },
  {
   "cell_type": "code",
   "execution_count": null,
   "metadata": {},
   "outputs": [],
   "source": [
    "from random import random\n",
    "\n",
    "\n",
    "kmeans_models = []\n",
    "\n",
    "for i in range(0, 3):\n",
    "\n",
    "    # parameterize clustering\n",
    "    kmeans_algo = cluster.KMeans(n_clusters=3, random_state=i, init=\"random\")\n",
    "\n",
    "    # learn the model\n",
    "    kmeans_model = kmeans_algo.fit(X)\n",
    "\n",
    "    # append the model to the list\n",
    "    kmeans_models.append(kmeans_model)\n",
    "\n",
    "kmeans_models"
   ]
  },
  {
   "cell_type": "code",
   "execution_count": null,
   "metadata": {},
   "outputs": [],
   "source": [
    "for i in range(0, 3):\n",
    "\n",
    "    y_pred = kmeans_models[i].labels_\n",
    "\n",
    "    # compute silhouette\n",
    "    print(\n",
    "        f\"{i} Silhouette (euclidean): {metrics.silhouette_score(X, y_pred, metric='euclidean')}\"\n",
    "    )\n",
    "    # print(f\"{i} Silhouette (manhattan): {metrics.silhouette_score(X, y_pred, metric='manhattan')}\")"
   ]
  },
  {
   "cell_type": "code",
   "execution_count": null,
   "metadata": {},
   "outputs": [],
   "source": [
    "def purity_score(y_true, y_pred):\n",
    "    # compute contingency/confusion matrix\n",
    "    confusion_matrix = metrics.cluster.contingency_matrix(y_true, y_pred)\n",
    "    return np.sum(np.amax(confusion_matrix, axis=0)) / np.sum(confusion_matrix)"
   ]
  },
  {
   "cell_type": "code",
   "execution_count": null,
   "metadata": {},
   "outputs": [],
   "source": [
    "for i in range(0, 3):\n",
    "\n",
    "    y_pred = kmeans_models[i].labels_\n",
    "\n",
    "    print(\"Purity:\", purity_score(y_true, y_pred))"
   ]
  },
  {
   "cell_type": "markdown",
   "metadata": {},
   "source": [
    "### 2) [1.5v] **What is causing the non-determinism?**"
   ]
  },
  {
   "cell_type": "markdown",
   "metadata": {},
   "source": [
    ">TODO\n",
    "\n",
    "Something about the random initialization of the centroids. The centroids are initialized randomly, so the results are not deterministic. "
   ]
  },
  {
   "cell_type": "markdown",
   "metadata": {},
   "source": [
    "### 3) [1.5v] **Using a scatter plot, visualize side-by-side the labeled data using as labels:** \n",
    "- i) the original Parkinson diagnoses, \n",
    "- ii) the previously learned 𝑘 = 3 clusters (random= 0). \n",
    "\n",
    "**To this end, select the two most informative features as axes and color observations according to their label. For feature selection, select the two input variables with highest variance on the MinMax normalized data.**"
   ]
  },
  {
   "cell_type": "code",
   "execution_count": null,
   "metadata": {},
   "outputs": [],
   "source": [
    "# get the columns with the highest variance\n",
    "selected_features = list(X.var().sort_values(ascending=False).head(2).index)\n",
    "\n",
    "selected_features"
   ]
  },
  {
   "cell_type": "code",
   "execution_count": null,
   "metadata": {},
   "outputs": [],
   "source": [
    "colors = ListedColormap([\"#FF0000\", \"#0000FF\", \"#00FF00\"])\n",
    "\n",
    "# predicted data of the first model\n",
    "y_pred = kmeans_models[0].labels_\n",
    "\n",
    "# Original data\n",
    "figure = plt.figure(figsize=(14, 5))\n",
    "ax = plt.subplot(1, 2, 1)\n",
    "ax.set_facecolor(\"#BEBEBE\")\n",
    "ax.scatter(X[selected_features[0]], X[selected_features[1]], c=y_true, cmap=colors)\n",
    "plt.xlabel(selected_features[0])\n",
    "plt.ylabel(selected_features[1])\n",
    "\n",
    "# k = 3 (random = 0)\n",
    "ax = plt.subplot(1, 2, 2)\n",
    "ax.scatter(X[selected_features[0]], X[selected_features[1]], c=y_pred, cmap=colors)\n",
    "plt.xlabel(selected_features[0])\n",
    "plt.ylabel(selected_features[1])\n",
    "\n",
    "plt.show()"
   ]
  },
  {
   "cell_type": "markdown",
   "metadata": {},
   "source": [
    "### 4) [1.5v] **The fraction of variance explained by a principal component is the ratio between the variance of that component (i.e., its eigenvalue) and total variance (i.e., sum of all eigenvalues). How many principal components are necessary to explain more than 80% of variability? Hint: explore the DimReduction notebook to be familiar with PCA in sklearn.**"
   ]
  },
  {
   "cell_type": "code",
   "execution_count": null,
   "metadata": {},
   "outputs": [],
   "source": [
    "pca = PCA(n_components=0.8, svd_solver=\"full\")\n",
    "\n",
    "pca.fit(X)\n",
    "\n",
    "print(pca.n_components_)"
   ]
  }
 ],
 "metadata": {},
 "nbformat": 4,
 "nbformat_minor": 2
}
